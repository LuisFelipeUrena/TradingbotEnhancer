{
 "cells": [
  {
   "cell_type": "markdown",
   "metadata": {},
   "source": [
    "This Notebook has all the data exploration for my models and the models in this proyect\n",
    "these are the problems i am trying to solve:\n",
    "\n",
    "1.   reducing the false positive rate by making this into a classification problem\n",
    "2.   creating a linear model that can predict the aproximate close price of a trade.\n",
    "\n",
    "\n"
   ]
  },
  {
   "cell_type": "code",
   "execution_count": 57,
   "metadata": {},
   "outputs": [],
   "source": [
    "%config IPCompleter.greedy=True"
   ]
  },
  {
   "cell_type": "code",
   "execution_count": 58,
   "metadata": {},
   "outputs": [],
   "source": [
    "#first lets import the trinity of Python \n",
    "import numpy as np\n",
    "import pandas as pd\n",
    "import matplotlib.pyplot as plt"
   ]
  },
  {
   "cell_type": "markdown",
   "metadata": {},
   "source": [
    "This Data is from myfxbook.com you can find it in [this link](https://www.myfxbook.com/strategies/sterlingxp-expert-advisor-fixed-lot/226294) this is a 5 year backtest from a live trading account in IG markets"
   ]
  },
  {
   "cell_type": "code",
   "execution_count": 59,
   "metadata": {},
   "outputs": [
    {
     "data": {
      "text/html": [
       "<div>\n",
       "<style scoped>\n",
       "    .dataframe tbody tr th:only-of-type {\n",
       "        vertical-align: middle;\n",
       "    }\n",
       "\n",
       "    .dataframe tbody tr th {\n",
       "        vertical-align: top;\n",
       "    }\n",
       "\n",
       "    .dataframe thead th {\n",
       "        text-align: right;\n",
       "    }\n",
       "</style>\n",
       "<table border=\"1\" class=\"dataframe\">\n",
       "  <thead>\n",
       "    <tr style=\"text-align: right;\">\n",
       "      <th></th>\n",
       "      <th>Open Date</th>\n",
       "      <th>Close Date</th>\n",
       "      <th>Symbol</th>\n",
       "      <th>Action</th>\n",
       "      <th>Lots</th>\n",
       "      <th>SL</th>\n",
       "      <th>TP</th>\n",
       "      <th>Open Price</th>\n",
       "      <th>Close Price</th>\n",
       "      <th>Pips</th>\n",
       "      <th>Profit</th>\n",
       "      <th>Duration (DD:HH:MM:SS)</th>\n",
       "      <th>Change %</th>\n",
       "    </tr>\n",
       "  </thead>\n",
       "  <tbody>\n",
       "    <tr>\n",
       "      <th>0</th>\n",
       "      <td>04/02/2020 16:30</td>\n",
       "      <td>04/02/2020 23:59</td>\n",
       "      <td>GBPUSD</td>\n",
       "      <td>Sell</td>\n",
       "      <td>1.5</td>\n",
       "      <td>1.24420</td>\n",
       "      <td>1.23320</td>\n",
       "      <td>1.23720</td>\n",
       "      <td>1.23926</td>\n",
       "      <td>-20.6</td>\n",
       "      <td>-296.41</td>\n",
       "      <td>00:07:29:00</td>\n",
       "      <td>-0.28</td>\n",
       "    </tr>\n",
       "    <tr>\n",
       "      <th>1</th>\n",
       "      <td>04/02/2020 12:00</td>\n",
       "      <td>04/02/2020 13:22</td>\n",
       "      <td>GBPUSD</td>\n",
       "      <td>Buy</td>\n",
       "      <td>1.5</td>\n",
       "      <td>1.23533</td>\n",
       "      <td>1.24633</td>\n",
       "      <td>1.24233</td>\n",
       "      <td>1.24633</td>\n",
       "      <td>40.0</td>\n",
       "      <td>544.67</td>\n",
       "      <td>00:01:22:00</td>\n",
       "      <td>0.52</td>\n",
       "    </tr>\n",
       "    <tr>\n",
       "      <th>2</th>\n",
       "      <td>03/25/2020 18:00</td>\n",
       "      <td>03/25/2020 18:22</td>\n",
       "      <td>GBPUSD</td>\n",
       "      <td>Buy</td>\n",
       "      <td>1.5</td>\n",
       "      <td>1.16878</td>\n",
       "      <td>1.17978</td>\n",
       "      <td>1.17578</td>\n",
       "      <td>1.17978</td>\n",
       "      <td>40.0</td>\n",
       "      <td>544.67</td>\n",
       "      <td>00:00:22:00</td>\n",
       "      <td>0.53</td>\n",
       "    </tr>\n",
       "    <tr>\n",
       "      <th>3</th>\n",
       "      <td>03/25/2020 16:00</td>\n",
       "      <td>03/25/2020 16:18</td>\n",
       "      <td>GBPUSD</td>\n",
       "      <td>Sell</td>\n",
       "      <td>1.5</td>\n",
       "      <td>1.18371</td>\n",
       "      <td>1.17271</td>\n",
       "      <td>1.17671</td>\n",
       "      <td>1.17271</td>\n",
       "      <td>40.0</td>\n",
       "      <td>544.67</td>\n",
       "      <td>00:00:18:00</td>\n",
       "      <td>0.53</td>\n",
       "    </tr>\n",
       "    <tr>\n",
       "      <th>4</th>\n",
       "      <td>03/25/2020 11:00</td>\n",
       "      <td>03/25/2020 11:54</td>\n",
       "      <td>GBPUSD</td>\n",
       "      <td>Buy</td>\n",
       "      <td>1.5</td>\n",
       "      <td>1.18523</td>\n",
       "      <td>1.19623</td>\n",
       "      <td>1.19223</td>\n",
       "      <td>1.19623</td>\n",
       "      <td>40.0</td>\n",
       "      <td>544.67</td>\n",
       "      <td>00:00:54:00</td>\n",
       "      <td>0.53</td>\n",
       "    </tr>\n",
       "  </tbody>\n",
       "</table>\n",
       "</div>"
      ],
      "text/plain": [
       "          Open Date        Close Date  Symbol Action  Lots       SL       TP  \\\n",
       "0  04/02/2020 16:30  04/02/2020 23:59  GBPUSD   Sell   1.5  1.24420  1.23320   \n",
       "1  04/02/2020 12:00  04/02/2020 13:22  GBPUSD    Buy   1.5  1.23533  1.24633   \n",
       "2  03/25/2020 18:00  03/25/2020 18:22  GBPUSD    Buy   1.5  1.16878  1.17978   \n",
       "3  03/25/2020 16:00  03/25/2020 16:18  GBPUSD   Sell   1.5  1.18371  1.17271   \n",
       "4  03/25/2020 11:00  03/25/2020 11:54  GBPUSD    Buy   1.5  1.18523  1.19623   \n",
       "\n",
       "   Open Price  Close Price  Pips  Profit Duration (DD:HH:MM:SS)  Change %  \n",
       "0     1.23720      1.23926 -20.6 -296.41            00:07:29:00     -0.28  \n",
       "1     1.24233      1.24633  40.0  544.67            00:01:22:00      0.52  \n",
       "2     1.17578      1.17978  40.0  544.67            00:00:22:00      0.53  \n",
       "3     1.17671      1.17271  40.0  544.67            00:00:18:00      0.53  \n",
       "4     1.19223      1.19623  40.0  544.67            00:00:54:00      0.53  "
      ]
     },
     "execution_count": 59,
     "metadata": {},
     "output_type": "execute_result"
    }
   ],
   "source": [
    "#NOW lets load our dataset!\n",
    "df = pd.read_csv('myfxbookdata.csv')\n",
    "df.head(5)\n"
   ]
  },
  {
   "cell_type": "code",
   "execution_count": 60,
   "metadata": {},
   "outputs": [
    {
     "data": {
      "text/plain": [
       "Open Date                 0\n",
       "Close Date                0\n",
       "Symbol                    0\n",
       "Action                    0\n",
       "Lots                      0\n",
       "SL                        0\n",
       "TP                        0\n",
       "Open Price                0\n",
       "Close Price               0\n",
       "Pips                      0\n",
       "Profit                    0\n",
       "Duration (DD:HH:MM:SS)    0\n",
       "Change %                  0\n",
       "dtype: int64"
      ]
     },
     "execution_count": 60,
     "metadata": {},
     "output_type": "execute_result"
    }
   ],
   "source": [
    "#this data has no missing vals\n",
    "df.isnull().sum()"
   ]
  },
  {
   "cell_type": "code",
   "execution_count": 61,
   "metadata": {},
   "outputs": [
    {
     "data": {
      "text/plain": [
       "Open Date                  object\n",
       "Close Date                 object\n",
       "Symbol                     object\n",
       "Action                     object\n",
       "Lots                      float64\n",
       "SL                        float64\n",
       "TP                        float64\n",
       "Open Price                float64\n",
       "Close Price               float64\n",
       "Pips                      float64\n",
       "Profit                    float64\n",
       "Duration (DD:HH:MM:SS)     object\n",
       "Change %                  float64\n",
       "dtype: object"
      ]
     },
     "execution_count": 61,
     "metadata": {},
     "output_type": "execute_result"
    }
   ],
   "source": [
    "# data types are mostly float values\n",
    "df.dtypes"
   ]
  },
  {
   "cell_type": "code",
   "execution_count": 62,
   "metadata": {},
   "outputs": [],
   "source": [
    "# now lets define a fucntion to make wrangle our dataset\n",
    "def wrangle(x):\n",
    "    x = x.copy()\n",
    "    #removing spaces and upper cases\n",
    "    x.columns = x.columns.str.lower()\n",
    "    x.columns = x.columns.str.replace(' ','_')\n",
    "    \n",
    "    #engeneering a few features\n",
    "    x['win/loss'] = x['profit'] > 0 #this feature will determine if there is a winning or losing trade\n",
    "    features_ = x.loc[:,'sl':'open_price'] #this variable subsets my main columns openprice, stoploss and take profit\n",
    "    x['mean'] = features_.mean(axis=1)\n",
    "    x['med'] = features_.median(axis=1)\n",
    "    x['std'] = features_.std(axis=1)\n",
    "    multiplier = 0.0001\n",
    "\n",
    "    x['risk_reward'] = round((x['sl']-x['tp'])/multiplier)\n",
    "    \n",
    "    #dropping some of the features that cause leakage\n",
    "    x = x.drop(labels=['profit','pips','change_%',\"duration_(dd:hh:mm:ss)\"],axis=1)\n",
    "    \n",
    "    #setting columns as datetime\n",
    "    x['open_date'] = pd.to_datetime(x['open_date'])\n",
    "    x['close_date'] = pd.to_datetime(x['close_date'])\n",
    "    return x\n",
    "    \n",
    "    \n",
    "    \n",
    "    "
   ]
  },
  {
   "cell_type": "code",
   "execution_count": 63,
   "metadata": {},
   "outputs": [],
   "source": [
    "#now we apply the function to our dataset!\n",
    "df = wrangle(df)"
   ]
  },
  {
   "cell_type": "markdown",
   "metadata": {},
   "source": [
    "# For our data exploration we will use a new library called Dtale\n",
    "Dtale makes data exploration easier and in my opinion is more powerfull than pandas profiling"
   ]
  },
  {
   "cell_type": "code",
   "execution_count": 64,
   "metadata": {},
   "outputs": [],
   "source": [
    "#here is dtale, you can install it simply by using !pip install \n",
    "import dtale as dtale"
   ]
  },
  {
   "cell_type": "code",
   "execution_count": 65,
   "metadata": {},
   "outputs": [
    {
     "data": {
      "text/html": [
       "\n",
       "        <iframe\n",
       "            width=\"100%\"\n",
       "            height=\"475\"\n",
       "            src=\"http://LAPTOP-HJP9BGVI:40000/dtale/iframe/1\"\n",
       "            frameborder=\"0\"\n",
       "            allowfullscreen\n",
       "        ></iframe>\n",
       "        "
      ],
      "text/plain": [
       "<IPython.lib.display.IFrame at 0x237634fa408>"
      ]
     },
     "metadata": {},
     "output_type": "display_data"
    },
    {
     "data": {
      "text/plain": []
     },
     "execution_count": 65,
     "metadata": {},
     "output_type": "execute_result"
    }
   ],
   "source": [
    "dtale.show(df,ignore_duplicate=True) #to start exploring the data just click on the play button on the top left corner of the table"
   ]
  },
  {
   "cell_type": "code",
   "execution_count": 66,
   "metadata": {},
   "outputs": [],
   "source": [
    "#now lets subset our data into a time based split\n",
    "#the train set will be data before our cutoff, the test data will be \n",
    "#data after our cutoff date\n",
    "cutoff = pd.to_datetime('2018/11/1')#<---cutoff date\n",
    "train = df[df['open_date']<=cutoff]\n",
    "test = df[df['open_date']>cutoff]"
   ]
  },
  {
   "cell_type": "code",
   "execution_count": 67,
   "metadata": {},
   "outputs": [
    {
     "data": {
      "text/plain": [
       "((981, 14), (315, 14))"
      ]
     },
     "execution_count": 67,
     "metadata": {},
     "output_type": "execute_result"
    }
   ],
   "source": [
    "train.shape , test.shape"
   ]
  },
  {
   "cell_type": "markdown",
   "metadata": {},
   "source": [
    "## Lets take a look at our baseline to see what are we trying to beat in our model:\n"
   ]
  },
  {
   "cell_type": "code",
   "execution_count": 68,
   "metadata": {},
   "outputs": [
    {
     "data": {
      "text/plain": [
       "True     0.695988\n",
       "False    0.304012\n",
       "Name: win/loss, dtype: float64"
      ]
     },
     "execution_count": 68,
     "metadata": {},
     "output_type": "execute_result"
    }
   ],
   "source": [
    "#baseline with value counts function\n",
    "dist = df['win/loss'].value_counts(normalize=True)\n",
    "dist"
   ]
  },
  {
   "cell_type": "code",
   "execution_count": 69,
   "metadata": {},
   "outputs": [
    {
     "data": {
      "image/png": "[encoded data removed]",
      "text/plain": [
       "<Figure size 432x288 with 1 Axes>"
      ]
     },
     "metadata": {
      "needs_background": "light"
     },
     "output_type": "display_data"
    }
   ],
   "source": [
    "#lets visualize it\n",
    "import seaborn as sns\n",
    "sns.distplot(dist);"
   ]
  },
  {
   "cell_type": "code",
   "execution_count": 70,
   "metadata": {},
   "outputs": [],
   "source": [
    "# now lets subset our data into x and y\n",
    "# here is our target and features for our classification problem\n",
    "target = 'win/loss'\n",
    "features = ['action','sl','tp','open_price','mean','close_price','risk_reward']\n",
    "\n",
    "X_train = train[features]\n",
    "y_train = train[target]\n",
    "X_test = test[features]\n",
    "y_test = test[target]\n",
    "X_test_rf = X_test.copy()\n",
    "y_test_rf = y_test.copy()"
   ]
  },
  {
   "cell_type": "code",
   "execution_count": 71,
   "metadata": {},
   "outputs": [],
   "source": [
    "#lets fit a regular linear regression and use that as our baseline model, then we will try to \n",
    "#improve it if possible\n",
    "from sklearn.ensemble import RandomForestClassifier\n",
    "import category_encoders as ce \n",
    "from sklearn.pipeline import make_pipeline\n",
    "from sklearn.linear_model import LogisticRegressionCV, LogisticRegression\n"
   ]
  },
  {
   "cell_type": "code",
   "execution_count": 72,
   "metadata": {},
   "outputs": [],
   "source": [
    "#pipeline with 2 steps\n",
    "pipeline = make_pipeline(\n",
    "    ce.BinaryEncoder(),\n",
    "    LogisticRegression()\n",
    ")"
   ]
  },
  {
   "cell_type": "code",
   "execution_count": 73,
   "metadata": {},
   "outputs": [
    {
     "data": {
      "text/plain": [
       "Pipeline(memory=None,\n",
       "         steps=[('binaryencoder',\n",
       "                 BinaryEncoder(cols=None, drop_invariant=False,\n",
       "                               handle_missing='value', handle_unknown='value',\n",
       "                               mapping=None, return_df=True, verbose=0)),\n",
       "                ('logisticregression',\n",
       "                 LogisticRegression(C=1.0, class_weight=None, dual=False,\n",
       "                                    fit_intercept=True, intercept_scaling=1,\n",
       "                                    l1_ratio=None, max_iter=100,\n",
       "                                    multi_class='auto', n_jobs=None,\n",
       "                                    penalty='l2', random_state=None,\n",
       "                                    solver='lbfgs', tol=0.0001, verbose=0,\n",
       "                                    warm_start=False))],\n",
       "         verbose=False)"
      ]
     },
     "execution_count": 73,
     "metadata": {},
     "output_type": "execute_result"
    }
   ],
   "source": [
    "#now lets fit it!\n",
    "pipeline.fit(X_train,y_train)"
   ]
  },
  {
   "cell_type": "code",
   "execution_count": 74,
   "metadata": {},
   "outputs": [],
   "source": [
    "#now lets use cross val score to measure how good our model is\n",
    "from sklearn.model_selection import cross_val_score"
   ]
  },
  {
   "cell_type": "code",
   "execution_count": 75,
   "metadata": {},
   "outputs": [
    {
     "data": {
      "text/plain": [
       "array([0.50815085, 0.36348039, 0.55895088, 0.53334158, 0.40121242])"
      ]
     },
     "execution_count": 75,
     "metadata": {},
     "output_type": "execute_result"
    }
   ],
   "source": [
    "from sklearn.metrics import roc_auc_score\n",
    "lg_cvscore = cross_val_score(pipeline,X_train,y_train,scoring='roc_auc')\n",
    "lg_cvscore"
   ]
  },
  {
   "cell_type": "code",
   "execution_count": 76,
   "metadata": {},
   "outputs": [
    {
     "data": {
      "text/plain": [
       "0.47302722610756537"
      ]
     },
     "execution_count": 76,
     "metadata": {},
     "output_type": "execute_result"
    }
   ],
   "source": [
    "#what is the average validation accuracy?\n",
    "np.mean(lg_cvscore)"
   ]
  },
  {
   "cell_type": "markdown",
   "metadata": {},
   "source": [
    "so our baseline model pretty much predicted the normal distribution of our model when it comes to accuracy, but how does it perform with RoC AuC scores?"
   ]
  },
  {
   "cell_type": "code",
   "execution_count": 77,
   "metadata": {},
   "outputs": [],
   "source": [
    "from sklearn.metrics import roc_auc_score"
   ]
  },
  {
   "cell_type": "code",
   "execution_count": 78,
   "metadata": {},
   "outputs": [
    {
     "data": {
      "text/plain": [
       "0.4607490778397806"
      ]
     },
     "execution_count": 78,
     "metadata": {},
     "output_type": "execute_result"
    }
   ],
   "source": [
    "from sklearn.metrics import roc_auc_score\n",
    "\n",
    "y_pred_probab = pipeline.predict_proba(X_test)[:, -1]\n",
    "roc_auc_score(y_test, y_pred_probab)"
   ]
  },
  {
   "cell_type": "markdown",
   "metadata": {},
   "source": [
    "OUCH! a 46% ROC AUC score! that is not good..."
   ]
  },
  {
   "cell_type": "code",
   "execution_count": 79,
   "metadata": {},
   "outputs": [],
   "source": [
    "#Now lets try one of my favorite models: Randomforestclassifier\n",
    "pipeline_rf = make_pipeline(\n",
    "    ce.BinaryEncoder(),\n",
    "    RandomForestClassifier()\n",
    ")"
   ]
  },
  {
   "cell_type": "code",
   "execution_count": 80,
   "metadata": {},
   "outputs": [
    {
     "data": {
      "text/plain": [
       "Pipeline(memory=None,\n",
       "         steps=[('binaryencoder',\n",
       "                 BinaryEncoder(cols=None, drop_invariant=False,\n",
       "                               handle_missing='value', handle_unknown='value',\n",
       "                               mapping=None, return_df=True, verbose=0)),\n",
       "                ('randomforestclassifier',\n",
       "                 RandomForestClassifier(bootstrap=True, ccp_alpha=0.0,\n",
       "                                        class_weight=None, criterion='gini',\n",
       "                                        max_depth=None, max_features='auto',\n",
       "                                        max_leaf_nodes=None, max_samples=None,\n",
       "                                        min_impurity_decrease=0.0,\n",
       "                                        min_impurity_split=None,\n",
       "                                        min_samples_leaf=1, min_samples_split=2,\n",
       "                                        min_weight_fraction_leaf=0.0,\n",
       "                                        n_estimators=100, n_jobs=None,\n",
       "                                        oob_score=False, random_state=None,\n",
       "                                        verbose=0, warm_start=False))],\n",
       "         verbose=False)"
      ]
     },
     "execution_count": 80,
     "metadata": {},
     "output_type": "execute_result"
    }
   ],
   "source": [
    "# lets fit it\n",
    "pipeline_rf.fit(X_train,y_train)"
   ]
  },
  {
   "cell_type": "code",
   "execution_count": 81,
   "metadata": {},
   "outputs": [
    {
     "data": {
      "text/plain": [
       "array([0.88958333, 0.853125  , 0.84791667, 0.62012987, 0.90692641,\n",
       "       0.97186147, 0.94480519, 0.7965368 , 0.69588745, 0.71536797,\n",
       "       0.98917749, 0.88852814, 0.49242424, 0.75865801, 0.76839827,\n",
       "       0.74776786, 0.7578125 , 0.8359375 , 0.86607143, 0.76227679,\n",
       "       0.765625  ])"
      ]
     },
     "execution_count": 81,
     "metadata": {},
     "output_type": "execute_result"
    }
   ],
   "source": [
    "# now lets see the validation accuracy to see if it improves\n",
    "rf_cvscore = cross_val_score(pipeline_rf,X_train,y_train,scoring='roc_auc',cv=21)\n",
    "rf_cvscore"
   ]
  },
  {
   "cell_type": "code",
   "execution_count": 82,
   "metadata": {},
   "outputs": [
    {
     "data": {
      "text/plain": [
       "0.8035627319109463"
      ]
     },
     "execution_count": 82,
     "metadata": {},
     "output_type": "execute_result"
    }
   ],
   "source": [
    "np.mean(rf_cvscore)"
   ]
  },
  {
   "cell_type": "code",
   "execution_count": 83,
   "metadata": {},
   "outputs": [
    {
     "data": {
      "text/plain": [
       "0.8817743308427125"
      ]
     },
     "execution_count": 83,
     "metadata": {},
     "output_type": "execute_result"
    }
   ],
   "source": [
    "# now lets see what is the ROC AUC score on this model...\n",
    "y_pred_probab = pipeline_rf.predict_proba(X_test)[:, -1]\n",
    "roc_auc_score(y_test, y_pred_probab)"
   ]
  },
  {
   "cell_type": "markdown",
   "metadata": {},
   "source": [
    "Wow that is way better!, lets plot this ROC AUC line!"
   ]
  },
  {
   "cell_type": "code",
   "execution_count": 84,
   "metadata": {},
   "outputs": [
    {
     "data": {
      "text/html": [
       "<div>\n",
       "<style scoped>\n",
       "    .dataframe tbody tr th:only-of-type {\n",
       "        vertical-align: middle;\n",
       "    }\n",
       "\n",
       "    .dataframe tbody tr th {\n",
       "        vertical-align: top;\n",
       "    }\n",
       "\n",
       "    .dataframe thead th {\n",
       "        text-align: right;\n",
       "    }\n",
       "</style>\n",
       "<table border=\"1\" class=\"dataframe\">\n",
       "  <thead>\n",
       "    <tr style=\"text-align: right;\">\n",
       "      <th></th>\n",
       "      <th>False Positive Rate</th>\n",
       "      <th>True Positive Rate</th>\n",
       "      <th>Threshold</th>\n",
       "    </tr>\n",
       "  </thead>\n",
       "  <tbody>\n",
       "    <tr>\n",
       "      <th>0</th>\n",
       "      <td>0.000000</td>\n",
       "      <td>0.000000</td>\n",
       "      <td>2.00</td>\n",
       "    </tr>\n",
       "    <tr>\n",
       "      <th>1</th>\n",
       "      <td>0.000000</td>\n",
       "      <td>0.068807</td>\n",
       "      <td>1.00</td>\n",
       "    </tr>\n",
       "    <tr>\n",
       "      <th>2</th>\n",
       "      <td>0.000000</td>\n",
       "      <td>0.142202</td>\n",
       "      <td>0.99</td>\n",
       "    </tr>\n",
       "    <tr>\n",
       "      <th>3</th>\n",
       "      <td>0.000000</td>\n",
       "      <td>0.238532</td>\n",
       "      <td>0.98</td>\n",
       "    </tr>\n",
       "    <tr>\n",
       "      <th>4</th>\n",
       "      <td>0.000000</td>\n",
       "      <td>0.247706</td>\n",
       "      <td>0.97</td>\n",
       "    </tr>\n",
       "    <tr>\n",
       "      <th>...</th>\n",
       "      <td>...</td>\n",
       "      <td>...</td>\n",
       "      <td>...</td>\n",
       "    </tr>\n",
       "    <tr>\n",
       "      <th>68</th>\n",
       "      <td>0.917526</td>\n",
       "      <td>1.000000</td>\n",
       "      <td>0.09</td>\n",
       "    </tr>\n",
       "    <tr>\n",
       "      <th>69</th>\n",
       "      <td>0.958763</td>\n",
       "      <td>1.000000</td>\n",
       "      <td>0.07</td>\n",
       "    </tr>\n",
       "    <tr>\n",
       "      <th>70</th>\n",
       "      <td>0.969072</td>\n",
       "      <td>1.000000</td>\n",
       "      <td>0.06</td>\n",
       "    </tr>\n",
       "    <tr>\n",
       "      <th>71</th>\n",
       "      <td>0.989691</td>\n",
       "      <td>1.000000</td>\n",
       "      <td>0.05</td>\n",
       "    </tr>\n",
       "    <tr>\n",
       "      <th>72</th>\n",
       "      <td>1.000000</td>\n",
       "      <td>1.000000</td>\n",
       "      <td>0.04</td>\n",
       "    </tr>\n",
       "  </tbody>\n",
       "</table>\n",
       "<p>73 rows × 3 columns</p>\n",
       "</div>"
      ],
      "text/plain": [
       "    False Positive Rate  True Positive Rate  Threshold\n",
       "0              0.000000            0.000000       2.00\n",
       "1              0.000000            0.068807       1.00\n",
       "2              0.000000            0.142202       0.99\n",
       "3              0.000000            0.238532       0.98\n",
       "4              0.000000            0.247706       0.97\n",
       "..                  ...                 ...        ...\n",
       "68             0.917526            1.000000       0.09\n",
       "69             0.958763            1.000000       0.07\n",
       "70             0.969072            1.000000       0.06\n",
       "71             0.989691            1.000000       0.05\n",
       "72             1.000000            1.000000       0.04\n",
       "\n",
       "[73 rows x 3 columns]"
      ]
     },
     "execution_count": 84,
     "metadata": {},
     "output_type": "execute_result"
    }
   ],
   "source": [
    "from sklearn.metrics import roc_curve\n",
    "\n",
    "fpr, tpr, thresholds = roc_curve(y_test, y_pred_probab)\n",
    "\n",
    "pd.DataFrame({\n",
    "  'False Positive Rate': fpr,\n",
    "  'True Positive Rate': tpr,\n",
    "  'Threshold': thresholds          \n",
    "})"
   ]
  },
  {
   "cell_type": "code",
   "execution_count": 85,
   "metadata": {},
   "outputs": [
    {
     "data": {
      "image/png": "[encoded data removed]",
      "text/plain": [
       "<Figure size 432x288 with 1 Axes>"
      ]
     },
     "metadata": {
      "needs_background": "light"
     },
     "output_type": "display_data"
    }
   ],
   "source": [
    "import matplotlib.pyplot as plt\n",
    "plt.scatter(fpr, tpr)\n",
    "plt.plot(fpr, tpr)\n",
    "plt.title('ROC curve')\n",
    "plt.xlabel('False Positive Rate')\n",
    "plt.ylabel('True Positive Rate');"
   ]
  },
  {
   "cell_type": "code",
   "execution_count": 86,
   "metadata": {},
   "outputs": [
    {
     "data": {
      "image/png": "[encoded data removed]",
      "text/plain": [
       "<Figure size 720x360 with 1 Axes>"
      ]
     },
     "metadata": {
      "needs_background": "light"
     },
     "output_type": "display_data"
    }
   ],
   "source": [
    "#now lets try to plot permutation importances:\n",
    "#feature importances\n",
    "\n",
    "%matplotlib inline\n",
    "import matplotlib.pyplot as plt\n",
    "\n",
    "# Get feature importances\n",
    "encoder = pipeline_rf.named_steps['binaryencoder']\n",
    "encoded = encoder.transform(X_train)\n",
    "\n",
    "rf = pipeline_rf.named_steps['randomforestclassifier']\n",
    "importances = pd.Series(rf.feature_importances_, encoded.columns)\n",
    "\n",
    "# Plot top n feature importances\n",
    "n = 10\n",
    "plt.figure(figsize=(10,n/2))\n",
    "plt.title(f'Top {n} features')\n",
    "importances.sort_values()[-n:].plot.barh();"
   ]
  },
  {
   "cell_type": "code",
   "execution_count": 87,
   "metadata": {},
   "outputs": [
    {
     "data": {
      "image/png": "[encoded data removed]",
      "text/plain": [
       "<Figure size 432x288 with 2 Axes>"
      ]
     },
     "metadata": {
      "needs_background": "light"
     },
     "output_type": "display_data"
    }
   ],
   "source": [
    "from sklearn.metrics import plot_confusion_matrix\n",
    "enc_test = encoder.transform(X_test)\n",
    "dist = plot_confusion_matrix(rf,enc_test,y_test,normalize='pred')"
   ]
  },
  {
   "cell_type": "code",
   "execution_count": 88,
   "metadata": {},
   "outputs": [
    {
     "name": "stdout",
     "output_type": "stream",
     "text": [
      "Requirement already satisfied: pdpbox in c:\\users\\luis_\\anaconda3\\lib\\site-packages (0.2.0)\n",
      "Requirement already satisfied: matplotlib>=2.1.2 in c:\\users\\luis_\\anaconda3\\lib\\site-packages (from pdpbox) (3.1.3)\n",
      "Requirement already satisfied: numpy in c:\\users\\luis_\\anaconda3\\lib\\site-packages (from pdpbox) (1.18.1)\n",
      "Requirement already satisfied: psutil in c:\\users\\luis_\\anaconda3\\lib\\site-packages (from pdpbox) (5.6.7)\n",
      "Requirement already satisfied: scipy in c:\\users\\luis_\\anaconda3\\lib\\site-packages (from pdpbox) (1.4.1)\n",
      "Requirement already satisfied: scikit-learn in c:\\users\\luis_\\anaconda3\\lib\\site-packages (from pdpbox) (0.22.1)\n",
      "Requirement already satisfied: pandas in c:\\users\\luis_\\anaconda3\\lib\\site-packages (from pdpbox) (1.0.1)\n",
      "Requirement already satisfied: joblib in c:\\users\\luis_\\anaconda3\\lib\\site-packages (from pdpbox) (0.14.1)\n",
      "Requirement already satisfied: pyparsing!=2.0.4,!=2.1.2,!=2.1.6,>=2.0.1 in c:\\users\\luis_\\anaconda3\\lib\\site-packages (from matplotlib>=2.1.2->pdpbox) (2.4.6)\n",
      "Requirement already satisfied: python-dateutil>=2.1 in c:\\users\\luis_\\anaconda3\\lib\\site-packages (from matplotlib>=2.1.2->pdpbox) (2.8.1)\n",
      "Requirement already satisfied: kiwisolver>=1.0.1 in c:\\users\\luis_\\anaconda3\\lib\\site-packages (from matplotlib>=2.1.2->pdpbox) (1.1.0)\n",
      "Requirement already satisfied: cycler>=0.10 in c:\\users\\luis_\\anaconda3\\lib\\site-packages (from matplotlib>=2.1.2->pdpbox) (0.10.0)\n",
      "Requirement already satisfied: pytz>=2017.2 in c:\\users\\luis_\\anaconda3\\lib\\site-packages (from pandas->pdpbox) (2019.3)\n",
      "Requirement already satisfied: six>=1.5 in c:\\users\\luis_\\anaconda3\\lib\\site-packages (from python-dateutil>=2.1->matplotlib>=2.1.2->pdpbox) (1.14.0)\n",
      "Requirement already satisfied: setuptools in c:\\users\\luis_\\anaconda3\\lib\\site-packages (from kiwisolver>=1.0.1->matplotlib>=2.1.2->pdpbox) (45.2.0.post20200210)\n"
     ]
    }
   ],
   "source": [
    "!pip install pdpbox"
   ]
  },
  {
   "cell_type": "code",
   "execution_count": 89,
   "metadata": {},
   "outputs": [
    {
     "data": {
      "image/png": "[encoded data removed]",
      "text/plain": [
       "<Figure size 1080x684 with 2 Axes>"
      ]
     },
     "metadata": {
      "needs_background": "light"
     },
     "output_type": "display_data"
    }
   ],
   "source": [
    "%matplotlib inline\n",
    "import matplotlib.pyplot as plt\n",
    "from pdpbox import pdp\n",
    "feature = 'close_price'\n",
    "X_encoded = encoder.transform(X_test)\n",
    "#X_imputed = imputer.transform(X_encoded)\n",
    "pdp_dist = pdp.pdp_isolate(model=rf, dataset=encoded, model_features=X_encoded.columns, feature=feature)\n",
    "pdp.pdp_plot(pdp_dist, feature);"
   ]
  },
  {
   "cell_type": "code",
   "execution_count": 90,
   "metadata": {},
   "outputs": [
    {
     "name": "stdout",
     "output_type": "stream",
     "text": [
      "Requirement already satisfied: eli5 in c:\\users\\luis_\\anaconda3\\lib\\site-packages (0.10.1)\n",
      "Requirement already satisfied: scipy in c:\\users\\luis_\\anaconda3\\lib\\site-packages (from eli5) (1.4.1)\n",
      "Requirement already satisfied: tabulate>=0.7.7 in c:\\users\\luis_\\anaconda3\\lib\\site-packages (from eli5) (0.8.7)\n",
      "Requirement already satisfied: jinja2 in c:\\users\\luis_\\anaconda3\\lib\\site-packages (from eli5) (2.11.1)\n",
      "Requirement already satisfied: graphviz in c:\\users\\luis_\\anaconda3\\lib\\site-packages (from eli5) (0.14)\n",
      "Requirement already satisfied: numpy>=1.9.0 in c:\\users\\luis_\\anaconda3\\lib\\site-packages (from eli5) (1.18.1)\n",
      "Requirement already satisfied: six in c:\\users\\luis_\\anaconda3\\lib\\site-packages (from eli5) (1.14.0)\n",
      "Requirement already satisfied: scikit-learn>=0.18 in c:\\users\\luis_\\anaconda3\\lib\\site-packages (from eli5) (0.22.1)\n",
      "Requirement already satisfied: attrs>16.0.0 in c:\\users\\luis_\\anaconda3\\lib\\site-packages (from eli5) (19.3.0)\n",
      "Requirement already satisfied: MarkupSafe>=0.23 in c:\\users\\luis_\\anaconda3\\lib\\site-packages (from jinja2->eli5) (1.1.1)\n",
      "Requirement already satisfied: joblib>=0.11 in c:\\users\\luis_\\anaconda3\\lib\\site-packages (from scikit-learn>=0.18->eli5) (0.14.1)\n"
     ]
    },
    {
     "data": {
      "text/plain": [
       "PermutationImportance(cv='prefit',\n",
       "                      estimator=RandomForestClassifier(bootstrap=True,\n",
       "                                                       ccp_alpha=0.0,\n",
       "                                                       class_weight=None,\n",
       "                                                       criterion='gini',\n",
       "                                                       max_depth=None,\n",
       "                                                       max_features='auto',\n",
       "                                                       max_leaf_nodes=None,\n",
       "                                                       max_samples=None,\n",
       "                                                       min_impurity_decrease=0.0,\n",
       "                                                       min_impurity_split=None,\n",
       "                                                       min_samples_leaf=1,\n",
       "                                                       min_samples_split=2,\n",
       "                                                       min_weight_fraction_leaf=0.0,\n",
       "                                                       n_estimators=100,\n",
       "                                                       n_jobs=None,\n",
       "                                                       oob_score=False,\n",
       "                                                       random_state=None,\n",
       "                                                       verbose=0,\n",
       "                                                       warm_start=False),\n",
       "                      n_iter=5, random_state=42, refit=True, scoring='roc_auc')"
      ]
     },
     "execution_count": 90,
     "metadata": {},
     "output_type": "execute_result"
    }
   ],
   "source": [
    "#now the real permutation importances\n",
    "!pip install eli5\n",
    "import eli5\n",
    "from eli5.sklearn import PermutationImportance\n",
    "\n",
    "permuter = PermutationImportance(\n",
    "    rf,\n",
    "    scoring='roc_auc',\n",
    "    n_iter=5,\n",
    "    random_state=42\n",
    ")\n",
    "\n",
    "permuter.fit(encoded, y_train)"
   ]
  },
  {
   "cell_type": "code",
   "execution_count": 91,
   "metadata": {},
   "outputs": [
    {
     "data": {
      "text/html": [
       "\n",
       "    <style>\n",
       "    table.eli5-weights tr:hover {\n",
       "        filter: brightness(85%);\n",
       "    }\n",
       "</style>\n",
       "\n",
       "\n",
       "\n",
       "    \n",
       "\n",
       "    \n",
       "\n",
       "    \n",
       "\n",
       "    \n",
       "\n",
       "    \n",
       "\n",
       "    \n",
       "\n",
       "\n",
       "    \n",
       "\n",
       "    \n",
       "\n",
       "    \n",
       "\n",
       "    \n",
       "\n",
       "    \n",
       "\n",
       "    \n",
       "\n",
       "\n",
       "    \n",
       "\n",
       "    \n",
       "\n",
       "    \n",
       "\n",
       "    \n",
       "\n",
       "    \n",
       "        <table class=\"eli5-weights eli5-feature-importances\" style=\"border-collapse: collapse; border: none; margin-top: 0em; table-layout: auto;\">\n",
       "    <thead>\n",
       "    <tr style=\"border: none;\">\n",
       "        <th style=\"padding: 0 1em 0 0.5em; text-align: right; border: none;\">Weight</th>\n",
       "        <th style=\"padding: 0 0.5em 0 0.5em; text-align: left; border: none;\">Feature</th>\n",
       "    </tr>\n",
       "    </thead>\n",
       "    <tbody>\n",
       "    \n",
       "        <tr style=\"background-color: hsl(120, 100.00%, 80.00%); border: none;\">\n",
       "            <td style=\"padding: 0 1em 0 0.5em; text-align: right; border: none;\">\n",
       "                0.2836\n",
       "                \n",
       "                    &plusmn; 0.0360\n",
       "                \n",
       "            </td>\n",
       "            <td style=\"padding: 0 0.5em 0 0.5em; text-align: left; border: none;\">\n",
       "                close_price\n",
       "            </td>\n",
       "        </tr>\n",
       "    \n",
       "        <tr style=\"background-color: hsl(120, 100.00%, 96.72%); border: none;\">\n",
       "            <td style=\"padding: 0 1em 0 0.5em; text-align: right; border: none;\">\n",
       "                0.0215\n",
       "                \n",
       "                    &plusmn; 0.0023\n",
       "                \n",
       "            </td>\n",
       "            <td style=\"padding: 0 0.5em 0 0.5em; text-align: left; border: none;\">\n",
       "                open_price\n",
       "            </td>\n",
       "        </tr>\n",
       "    \n",
       "        <tr style=\"background-color: hsl(120, 100.00%, 96.75%); border: none;\">\n",
       "            <td style=\"padding: 0 1em 0 0.5em; text-align: right; border: none;\">\n",
       "                0.0212\n",
       "                \n",
       "                    &plusmn; 0.0035\n",
       "                \n",
       "            </td>\n",
       "            <td style=\"padding: 0 0.5em 0 0.5em; text-align: left; border: none;\">\n",
       "                tp\n",
       "            </td>\n",
       "        </tr>\n",
       "    \n",
       "        <tr style=\"background-color: hsl(120, 100.00%, 97.50%); border: none;\">\n",
       "            <td style=\"padding: 0 1em 0 0.5em; text-align: right; border: none;\">\n",
       "                0.0146\n",
       "                \n",
       "                    &plusmn; 0.0018\n",
       "                \n",
       "            </td>\n",
       "            <td style=\"padding: 0 0.5em 0 0.5em; text-align: left; border: none;\">\n",
       "                sl\n",
       "            </td>\n",
       "        </tr>\n",
       "    \n",
       "        <tr style=\"background-color: hsl(120, 100.00%, 98.18%); border: none;\">\n",
       "            <td style=\"padding: 0 1em 0 0.5em; text-align: right; border: none;\">\n",
       "                0.0092\n",
       "                \n",
       "                    &plusmn; 0.0034\n",
       "                \n",
       "            </td>\n",
       "            <td style=\"padding: 0 0.5em 0 0.5em; text-align: left; border: none;\">\n",
       "                mean\n",
       "            </td>\n",
       "        </tr>\n",
       "    \n",
       "        <tr style=\"background-color: hsl(120, 100.00%, 100.00%); border: none;\">\n",
       "            <td style=\"padding: 0 1em 0 0.5em; text-align: right; border: none;\">\n",
       "                0.0000\n",
       "                \n",
       "                    &plusmn; 0.0000\n",
       "                \n",
       "            </td>\n",
       "            <td style=\"padding: 0 0.5em 0 0.5em; text-align: left; border: none;\">\n",
       "                action_1\n",
       "            </td>\n",
       "        </tr>\n",
       "    \n",
       "        <tr style=\"background-color: hsl(0, 100.00%, 100.00%); border: none;\">\n",
       "            <td style=\"padding: 0 1em 0 0.5em; text-align: right; border: none;\">\n",
       "                0\n",
       "                \n",
       "                    &plusmn; 0.0000\n",
       "                \n",
       "            </td>\n",
       "            <td style=\"padding: 0 0.5em 0 0.5em; text-align: left; border: none;\">\n",
       "                risk_reward\n",
       "            </td>\n",
       "        </tr>\n",
       "    \n",
       "        <tr style=\"background-color: hsl(0, 100.00%, 100.00%); border: none;\">\n",
       "            <td style=\"padding: 0 1em 0 0.5em; text-align: right; border: none;\">\n",
       "                0\n",
       "                \n",
       "                    &plusmn; 0.0000\n",
       "                \n",
       "            </td>\n",
       "            <td style=\"padding: 0 0.5em 0 0.5em; text-align: left; border: none;\">\n",
       "                action_0\n",
       "            </td>\n",
       "        </tr>\n",
       "    \n",
       "    \n",
       "    </tbody>\n",
       "</table>\n",
       "    \n",
       "\n",
       "    \n",
       "\n",
       "\n",
       "    \n",
       "\n",
       "    \n",
       "\n",
       "    \n",
       "\n",
       "    \n",
       "\n",
       "    \n",
       "\n",
       "    \n",
       "\n",
       "\n",
       "\n"
      ],
      "text/plain": [
       "<IPython.core.display.HTML object>"
      ]
     },
     "execution_count": 91,
     "metadata": {},
     "output_type": "execute_result"
    }
   ],
   "source": [
    "feature_names = encoded.columns.tolist()\n",
    "#pd.Series(permuter.feature_importances_, feature_names).sort_values()\n",
    "eli5.show_weights(permuter,top=20,feature_names=feature_names)"
   ]
  },
  {
   "cell_type": "markdown",
   "metadata": {},
   "source": [
    "Now. this model is highly dependent on the close price feature, which at the time of the trade we do not now with certainty, how our trade is going to close\n",
    ", now we have to make another model that can predict aproximately what the close price can be for any given trade, and use that into our first model and try to make an accurate prediction\n",
    "\n",
    "\n"
   ]
  },
  {
   "cell_type": "code",
   "execution_count": 92,
   "metadata": {},
   "outputs": [],
   "source": [
    "# first lets redefine our targets and features\n",
    "# in this clase Close_price will be our target.\n",
    "target = 'close_price'\n",
    "features = ['action','sl','tp','open_price','risk_reward','mean']\n",
    "\n",
    "X_train = train[features]\n",
    "y_train = train[target]\n",
    "X_test = test[features]\n",
    "y_test = test[target]"
   ]
  },
  {
   "cell_type": "code",
   "execution_count": 93,
   "metadata": {},
   "outputs": [],
   "source": [
    "from sklearn.linear_model import Ridge"
   ]
  },
  {
   "cell_type": "code",
   "execution_count": 94,
   "metadata": {},
   "outputs": [],
   "source": [
    "from sklearn.ensemble import RandomForestRegressor\n",
    "import category_encoders as ce \n",
    "from sklearn.pipeline import make_pipeline\n",
    "from sklearn.linear_model import LogisticRegressionCV, LogisticRegression\n",
    "from sklearn.model_selection import cross_val_score\n"
   ]
  },
  {
   "cell_type": "code",
   "execution_count": 95,
   "metadata": {},
   "outputs": [],
   "source": [
    "pipeline = make_pipeline(\n",
    "    ce.BinaryEncoder(),\n",
    "    Ridge()\n",
    ")"
   ]
  },
  {
   "cell_type": "code",
   "execution_count": 96,
   "metadata": {},
   "outputs": [
    {
     "data": {
      "text/plain": [
       "Pipeline(memory=None,\n",
       "         steps=[('binaryencoder',\n",
       "                 BinaryEncoder(cols=None, drop_invariant=False,\n",
       "                               handle_missing='value', handle_unknown='value',\n",
       "                               mapping=None, return_df=True, verbose=0)),\n",
       "                ('ridge',\n",
       "                 Ridge(alpha=1.0, copy_X=True, fit_intercept=True,\n",
       "                       max_iter=None, normalize=False, random_state=None,\n",
       "                       solver='auto', tol=0.001))],\n",
       "         verbose=False)"
      ]
     },
     "execution_count": 96,
     "metadata": {},
     "output_type": "execute_result"
    }
   ],
   "source": [
    "pipeline.fit(X_train,y_train)"
   ]
  },
  {
   "cell_type": "code",
   "execution_count": 97,
   "metadata": {},
   "outputs": [
    {
     "data": {
      "text/plain": [
       "array([0.98471676, 0.9713349 , 0.99479027, 0.98861868, 0.91524183])"
      ]
     },
     "execution_count": 97,
     "metadata": {},
     "output_type": "execute_result"
    }
   ],
   "source": [
    "ridge_cvscore = cross_val_score(pipeline,X_train,y_train,scoring='r2')\n",
    "ridge_cvscore"
   ]
  },
  {
   "cell_type": "code",
   "execution_count": 98,
   "metadata": {},
   "outputs": [
    {
     "data": {
      "text/plain": [
       "0.9737343500179033"
      ]
     },
     "execution_count": 98,
     "metadata": {},
     "output_type": "execute_result"
    }
   ],
   "source": [
    "from sklearn.metrics import r2_score\n",
    "y_pred = pipeline.predict(X_test)\n",
    "r2_score(y_test,y_pred)"
   ]
  },
  {
   "cell_type": "code",
   "execution_count": 99,
   "metadata": {},
   "outputs": [
    {
     "data": {
      "text/plain": [
       "0.004875578794760977"
      ]
     },
     "execution_count": 99,
     "metadata": {},
     "output_type": "execute_result"
    }
   ],
   "source": [
    "from sklearn.metrics import mean_absolute_error\n",
    "mean_absolute_error(y_pred,y_test)"
   ]
  },
  {
   "cell_type": "code",
   "execution_count": 100,
   "metadata": {},
   "outputs": [],
   "source": [
    "ridge = pipeline.named_steps['ridge']"
   ]
  },
  {
   "cell_type": "code",
   "execution_count": 101,
   "metadata": {},
   "outputs": [
    {
     "data": {
      "text/plain": [
       "<bound method BaseEstimator.get_params of Ridge(alpha=1.0, copy_X=True, fit_intercept=True, max_iter=None,\n",
       "      normalize=False, random_state=None, solver='auto', tol=0.001)>"
      ]
     },
     "execution_count": 101,
     "metadata": {},
     "output_type": "execute_result"
    }
   ],
   "source": [
    "ridge.get_params"
   ]
  },
  {
   "cell_type": "code",
   "execution_count": 102,
   "metadata": {},
   "outputs": [],
   "source": [
    "# now lets try to make some Hyperparameter tuning on this model to try to bring the \n",
    "# MAE down\n",
    "import random\n",
    "from sklearn.model_selection import RandomizedSearchCV\n",
    "param_dist={'ridge__alpha':(0.1,1.0,10.0,0.0001),\n",
    "            'ridge__solver':['auto', 'svd', 'cholesky', 'lsqr', 'sparse_cg', 'sag', 'saga'],\n",
    "           #'ridge__random_state':range(0,42),\n",
    "            'ridge__max_iter':range(100,1000),\n",
    "            \n",
    "           }"
   ]
  },
  {
   "cell_type": "code",
   "execution_count": 103,
   "metadata": {},
   "outputs": [],
   "source": [
    "from sklearn.model_selection import GridSearchCV, RandomizedSearchCV\n",
    "search = RandomizedSearchCV(\n",
    "    pipeline, \n",
    "    param_distributions=param_dist, \n",
    "    n_iter=5, \n",
    "    cv=3,  \n",
    "    verbose=10, \n",
    "    return_train_score=True, \n",
    "    n_jobs=-1\n",
    ")"
   ]
  },
  {
   "cell_type": "code",
   "execution_count": 104,
   "metadata": {},
   "outputs": [
    {
     "name": "stdout",
     "output_type": "stream",
     "text": [
      "Fitting 3 folds for each of 5 candidates, totalling 15 fits\n"
     ]
    },
    {
     "name": "stderr",
     "output_type": "stream",
     "text": [
      "[Parallel(n_jobs=-1)]: Using backend LokyBackend with 8 concurrent workers.\n",
      "[Parallel(n_jobs=-1)]: Done   2 out of  15 | elapsed:    2.6s remaining:   17.4s\n",
      "[Parallel(n_jobs=-1)]: Done   4 out of  15 | elapsed:    2.6s remaining:    7.4s\n",
      "[Parallel(n_jobs=-1)]: Done   6 out of  15 | elapsed:    2.7s remaining:    4.1s\n",
      "[Parallel(n_jobs=-1)]: Done   8 out of  15 | elapsed:    2.7s remaining:    2.4s\n",
      "[Parallel(n_jobs=-1)]: Done  10 out of  15 | elapsed:    2.7s remaining:    1.3s\n",
      "[Parallel(n_jobs=-1)]: Done  12 out of  15 | elapsed:    2.8s remaining:    0.6s\n",
      "[Parallel(n_jobs=-1)]: Done  15 out of  15 | elapsed:    2.8s finished\n"
     ]
    },
    {
     "data": {
      "text/plain": [
       "RandomizedSearchCV(cv=3, error_score=nan,\n",
       "                   estimator=Pipeline(memory=None,\n",
       "                                      steps=[('binaryencoder',\n",
       "                                              BinaryEncoder(cols=None,\n",
       "                                                            drop_invariant=False,\n",
       "                                                            handle_missing='value',\n",
       "                                                            handle_unknown='value',\n",
       "                                                            mapping=None,\n",
       "                                                            return_df=True,\n",
       "                                                            verbose=0)),\n",
       "                                             ('ridge',\n",
       "                                              Ridge(alpha=1.0, copy_X=True,\n",
       "                                                    fit_intercept=True,\n",
       "                                                    max_iter=None,\n",
       "                                                    normalize=False,\n",
       "                                                    random_state=None,\n",
       "                                                    solver='auto',\n",
       "                                                    tol=0.001))],\n",
       "                                      verbose=False),\n",
       "                   iid='deprecated', n_iter=5, n_jobs=-1,\n",
       "                   param_distributions={'ridge__alpha': (0.1, 1.0, 10.0,\n",
       "                                                         0.0001),\n",
       "                                        'ridge__max_iter': range(100, 1000),\n",
       "                                        'ridge__solver': ['auto', 'svd',\n",
       "                                                          'cholesky', 'lsqr',\n",
       "                                                          'sparse_cg', 'sag',\n",
       "                                                          'saga']},\n",
       "                   pre_dispatch='2*n_jobs', random_state=None, refit=True,\n",
       "                   return_train_score=True, scoring=None, verbose=10)"
      ]
     },
     "execution_count": 104,
     "metadata": {},
     "output_type": "execute_result"
    }
   ],
   "source": [
    "search.fit(X_train,y_train)"
   ]
  },
  {
   "cell_type": "code",
   "execution_count": 105,
   "metadata": {},
   "outputs": [],
   "source": [
    "#pipeline.get_params().keys()\n",
    "pipeline = search.best_estimator_"
   ]
  },
  {
   "cell_type": "code",
   "execution_count": 106,
   "metadata": {},
   "outputs": [
    {
     "data": {
      "text/plain": [
       "0.004665942309728856"
      ]
     },
     "execution_count": 106,
     "metadata": {},
     "output_type": "execute_result"
    }
   ],
   "source": [
    "y_pred = pipeline.predict(X_test)\n",
    "mean_absolute_error(y_pred,y_test)"
   ]
  },
  {
   "cell_type": "code",
   "execution_count": 107,
   "metadata": {},
   "outputs": [
    {
     "data": {
      "text/html": [
       "<div>\n",
       "<style scoped>\n",
       "    .dataframe tbody tr th:only-of-type {\n",
       "        vertical-align: middle;\n",
       "    }\n",
       "\n",
       "    .dataframe tbody tr th {\n",
       "        vertical-align: top;\n",
       "    }\n",
       "\n",
       "    .dataframe thead th {\n",
       "        text-align: right;\n",
       "    }\n",
       "</style>\n",
       "<table border=\"1\" class=\"dataframe\">\n",
       "  <thead>\n",
       "    <tr style=\"text-align: right;\">\n",
       "      <th></th>\n",
       "      <th>action</th>\n",
       "      <th>sl</th>\n",
       "      <th>tp</th>\n",
       "      <th>open_price</th>\n",
       "      <th>mean</th>\n",
       "      <th>close_price</th>\n",
       "      <th>risk_reward</th>\n",
       "    </tr>\n",
       "  </thead>\n",
       "  <tbody>\n",
       "    <tr>\n",
       "      <th>0</th>\n",
       "      <td>Sell</td>\n",
       "      <td>1.24420</td>\n",
       "      <td>1.23320</td>\n",
       "      <td>1.23720</td>\n",
       "      <td>1.23820</td>\n",
       "      <td>1.237028</td>\n",
       "      <td>110.0</td>\n",
       "    </tr>\n",
       "    <tr>\n",
       "      <th>1</th>\n",
       "      <td>Buy</td>\n",
       "      <td>1.23533</td>\n",
       "      <td>1.24633</td>\n",
       "      <td>1.24233</td>\n",
       "      <td>1.24133</td>\n",
       "      <td>1.243468</td>\n",
       "      <td>-110.0</td>\n",
       "    </tr>\n",
       "    <tr>\n",
       "      <th>2</th>\n",
       "      <td>Buy</td>\n",
       "      <td>1.16878</td>\n",
       "      <td>1.17978</td>\n",
       "      <td>1.17578</td>\n",
       "      <td>1.17478</td>\n",
       "      <td>1.177109</td>\n",
       "      <td>-110.0</td>\n",
       "    </tr>\n",
       "    <tr>\n",
       "      <th>3</th>\n",
       "      <td>Sell</td>\n",
       "      <td>1.18371</td>\n",
       "      <td>1.17271</td>\n",
       "      <td>1.17671</td>\n",
       "      <td>1.17771</td>\n",
       "      <td>1.176712</td>\n",
       "      <td>110.0</td>\n",
       "    </tr>\n",
       "    <tr>\n",
       "      <th>4</th>\n",
       "      <td>Buy</td>\n",
       "      <td>1.18523</td>\n",
       "      <td>1.19623</td>\n",
       "      <td>1.19223</td>\n",
       "      <td>1.19123</td>\n",
       "      <td>1.193512</td>\n",
       "      <td>-110.0</td>\n",
       "    </tr>\n",
       "    <tr>\n",
       "      <th>...</th>\n",
       "      <td>...</td>\n",
       "      <td>...</td>\n",
       "      <td>...</td>\n",
       "      <td>...</td>\n",
       "      <td>...</td>\n",
       "      <td>...</td>\n",
       "      <td>...</td>\n",
       "    </tr>\n",
       "    <tr>\n",
       "      <th>310</th>\n",
       "      <td>Sell</td>\n",
       "      <td>1.31729</td>\n",
       "      <td>1.30629</td>\n",
       "      <td>1.31029</td>\n",
       "      <td>1.31129</td>\n",
       "      <td>1.309908</td>\n",
       "      <td>110.0</td>\n",
       "    </tr>\n",
       "    <tr>\n",
       "      <th>311</th>\n",
       "      <td>Sell</td>\n",
       "      <td>1.30976</td>\n",
       "      <td>1.29876</td>\n",
       "      <td>1.30276</td>\n",
       "      <td>1.30376</td>\n",
       "      <td>1.302399</td>\n",
       "      <td>110.0</td>\n",
       "    </tr>\n",
       "    <tr>\n",
       "      <th>312</th>\n",
       "      <td>Buy</td>\n",
       "      <td>1.29349</td>\n",
       "      <td>1.30449</td>\n",
       "      <td>1.30049</td>\n",
       "      <td>1.29949</td>\n",
       "      <td>1.301460</td>\n",
       "      <td>-110.0</td>\n",
       "    </tr>\n",
       "    <tr>\n",
       "      <th>313</th>\n",
       "      <td>Sell</td>\n",
       "      <td>1.30683</td>\n",
       "      <td>1.29583</td>\n",
       "      <td>1.29983</td>\n",
       "      <td>1.30083</td>\n",
       "      <td>1.299478</td>\n",
       "      <td>110.0</td>\n",
       "    </tr>\n",
       "    <tr>\n",
       "      <th>314</th>\n",
       "      <td>Sell</td>\n",
       "      <td>1.29393</td>\n",
       "      <td>1.28293</td>\n",
       "      <td>1.28693</td>\n",
       "      <td>1.28793</td>\n",
       "      <td>1.286615</td>\n",
       "      <td>110.0</td>\n",
       "    </tr>\n",
       "  </tbody>\n",
       "</table>\n",
       "<p>315 rows × 7 columns</p>\n",
       "</div>"
      ],
      "text/plain": [
       "    action       sl       tp  open_price     mean  close_price  risk_reward\n",
       "0     Sell  1.24420  1.23320     1.23720  1.23820     1.237028        110.0\n",
       "1      Buy  1.23533  1.24633     1.24233  1.24133     1.243468       -110.0\n",
       "2      Buy  1.16878  1.17978     1.17578  1.17478     1.177109       -110.0\n",
       "3     Sell  1.18371  1.17271     1.17671  1.17771     1.176712        110.0\n",
       "4      Buy  1.18523  1.19623     1.19223  1.19123     1.193512       -110.0\n",
       "..     ...      ...      ...         ...      ...          ...          ...\n",
       "310   Sell  1.31729  1.30629     1.31029  1.31129     1.309908        110.0\n",
       "311   Sell  1.30976  1.29876     1.30276  1.30376     1.302399        110.0\n",
       "312    Buy  1.29349  1.30449     1.30049  1.29949     1.301460       -110.0\n",
       "313   Sell  1.30683  1.29583     1.29983  1.30083     1.299478        110.0\n",
       "314   Sell  1.29393  1.28293     1.28693  1.28793     1.286615        110.0\n",
       "\n",
       "[315 rows x 7 columns]"
      ]
     },
     "execution_count": 107,
     "metadata": {},
     "output_type": "execute_result"
    }
   ],
   "source": [
    "X_test_rf['close_price'] = y_pred\n",
    "X_test_rf"
   ]
  },
  {
   "cell_type": "code",
   "execution_count": 109,
   "metadata": {},
   "outputs": [],
   "source": [
    "from sklearn.metrics import accuracy_score"
   ]
  },
  {
   "cell_type": "code",
   "execution_count": 110,
   "metadata": {},
   "outputs": [],
   "source": [
    "rf_copy_pred = pipeline_rf.predict(X_test_rf)"
   ]
  },
  {
   "cell_type": "code",
   "execution_count": 111,
   "metadata": {},
   "outputs": [
    {
     "data": {
      "text/plain": [
       "0.6222222222222222"
      ]
     },
     "execution_count": 111,
     "metadata": {},
     "output_type": "execute_result"
    }
   ],
   "source": [
    "accuracy_score(rf_copy_pred,y_test_rf)"
   ]
  },
  {
   "cell_type": "code",
   "execution_count": 115,
   "metadata": {},
   "outputs": [
    {
     "data": {
      "text/plain": [
       "0.4772297361203064"
      ]
     },
     "execution_count": 115,
     "metadata": {},
     "output_type": "execute_result"
    }
   ],
   "source": [
    "# ROC AUC score for the new set with predicted close prices\n",
    "predict_proba_rf = pipeline_rf.predict_proba(X_test_rf)[:, -1]\n",
    "roc_auc_score(y_test_rf,predict_proba_rf)"
   ]
  },
  {
   "cell_type": "code",
   "execution_count": 127,
   "metadata": {},
   "outputs": [
    {
     "name": "stdout",
     "output_type": "stream",
     "text": [
      "pandas version 1.0.1\n",
      "Numpy version 1.18.1\n",
      "matplotlib version 3.1.3\n",
      "Sklearn version 0.22.1\n"
     ]
    }
   ],
   "source": [
    "# Versions Used in this notebook\n",
    "print('pandas version',pd.__version__)\n",
    "print('Numpy version',np.__version__)\n",
    "import matplotlib\n",
    "print('matplotlib version',matplotlib.__version__)\n",
    "import sklearn\n",
    "print('Sklearn version',sklearn.__version__)"
   ]
  },
  {
   "cell_type": "code",
   "execution_count": null,
   "metadata": {},
   "outputs": [],
   "source": []
  }
 ],
 "metadata": {
  "kernelspec": {
   "display_name": "Python 3",
   "language": "python",
   "name": "python3"
  },
  "language_info": {
   "codemirror_mode": {
    "name": "ipython",
    "version": 3
   },
   "file_extension": ".py",
   "mimetype": "text/x-python",
   "name": "python",
   "nbconvert_exporter": "python",
   "pygments_lexer": "ipython3",
   "version": "3.7.6"
  }
 },
 "nbformat": 4,
 "nbformat_minor": 4
}
